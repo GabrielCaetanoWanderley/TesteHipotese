{
  "cells": [
    {
      "cell_type": "markdown",
      "metadata": {},
      "source": [
        "## Primeiras coisas que eu preciso saber antes de começar o meu teste de hipotese.\n",
        "\n",
        "### 1 - Saber os valores de H1 e H0\n",
        "### 2 - Saber se é bilateral, unicaudal a direita ou a esquerda\n",
        "### 3 - Saber se é Variado ou Independente\n"
      ]
    },
    {
      "cell_type": "code",
      "execution_count": 11,
      "metadata": {
        "id": "RCj6u0RtEs4y"
      },
      "outputs": [
        {
          "ename": "AttributeError",
          "evalue": "module 'pandas' has no attribute 'read_cvs'",
          "output_type": "error",
          "traceback": [
            "\u001b[1;31m---------------------------------------------------------------------------\u001b[0m",
            "\u001b[1;31mAttributeError\u001b[0m                            Traceback (most recent call last)",
            "Cell \u001b[1;32mIn[11], line 18\u001b[0m\n\u001b[0;32m     15\u001b[0m \u001b[38;5;28;01mfrom\u001b[39;00m \u001b[38;5;21;01mscipy\u001b[39;00m\u001b[38;5;21;01m.\u001b[39;00m\u001b[38;5;21;01mstats\u001b[39;00m \u001b[38;5;28;01mimport\u001b[39;00m ttest_ind, ttest_rel, ttest_1samp\n\u001b[0;32m     16\u001b[0m \u001b[38;5;28;01mimport\u001b[39;00m \u001b[38;5;21;01mnumpy\u001b[39;00m \u001b[38;5;28;01mas\u001b[39;00m \u001b[38;5;21;01mnp\u001b[39;00m\n\u001b[1;32m---> 18\u001b[0m df \u001b[38;5;241m=\u001b[39m pd\u001b[38;5;241m.\u001b[39mread_cvs(\u001b[38;5;124m\"\u001b[39m\u001b[38;5;124mEx1_Turmas.csv\u001b[39m\u001b[38;5;124m\"\u001b[39m)\n\u001b[0;32m     20\u001b[0m grupoA \u001b[38;5;241m=\u001b[39m df[df[\u001b[38;5;124m'\u001b[39m\u001b[38;5;124mTurma\u001b[39m\u001b[38;5;124m'\u001b[39m] \u001b[38;5;241m==\u001b[39m \u001b[38;5;124m'\u001b[39m\u001b[38;5;124mA\u001b[39m\u001b[38;5;124m'\u001b[39m][\u001b[38;5;124m'\u001b[39m\u001b[38;5;124mNota\u001b[39m\u001b[38;5;124m'\u001b[39m]\n\u001b[0;32m     21\u001b[0m grupoB \u001b[38;5;241m=\u001b[39m df[df[\u001b[38;5;124m'\u001b[39m\u001b[38;5;124mTurma\u001b[39m\u001b[38;5;124m'\u001b[39m] \u001b[38;5;241m==\u001b[39m \u001b[38;5;124m'\u001b[39m\u001b[38;5;124mB\u001b[39m\u001b[38;5;124m'\u001b[39m][\u001b[38;5;124m'\u001b[39m\u001b[38;5;124mNota\u001b[39m\u001b[38;5;124m'\u001b[39m]\n",
            "\u001b[1;31mAttributeError\u001b[0m: module 'pandas' has no attribute 'read_cvs'"
          ]
        }
      ],
      "source": [
        "# Exercício 1 — Teste t, variável independente, unicaudal à esquerda (Ex1_Turmas.csv)\n",
        "#Enunciado:\n",
        "\n",
        "    #Duas turmas diferentes de uma faculdade usaram métodos distintos de estudo para a mesma disciplina.\n",
        "    #A Turma A utilizou o método tradicional, enquanto a Turma B usou uma nova técnica ativa.\n",
        "    #A coordenação acredita que o novo método reduz o tempo de aprendizado, ou seja, espera-se que a nota da Turma B seja maior.\n",
        "\n",
        "    #Você deve testar, com nível de significância de 5%, se a Turma B teve desempenho superior ao da Turma A.\n",
        "\n",
        "\n",
        "#Primeira coisa a se olhar é que o H1 é se a A<B e o H0 é A>=B\n",
        "#Segunto eu tenho que calcular para saber... Se o B > A vai ser unicaudal a direita e se A>B vai ser unicaudal a esquerda. Como que eu defini isso:]\n",
        "# eu quero que B seja maior do que A, ou seja, B deve estar a direita. \n",
        "import pandas as pd \n",
        "from scipy.stats import ttest_ind, ttest_rel, ttest_1samp\n",
        "import numpy as np\n",
        "\n",
        "df = pd.read_cvs(\"Ex1_Turmas.csv\")\n",
        "\n",
        "grupoA = df[df['Turma'] == 'A']['Nota']\n",
        "grupoB = df[df['Turma'] == 'B']['Nota']\n",
        "\n",
        "t_stat, p_bilateral = ttest_ind(grupo_a, grupo_b)\n",
        "\n",
        "\n"
      ]
    },
    {
      "cell_type": "code",
      "execution_count": null,
      "metadata": {},
      "outputs": [
        {
          "name": "stdout",
          "output_type": "stream",
          "text": [
            "0.9999999999999963\n",
            "não há evidencia suficiente para rejeitar a hipotese nula\n"
          ]
        }
      ],
      "source": [
        "## Exercício 2 — Teste t, variável pareada, unicaudal à direita (Ex2_AntesDepois.csv)\n",
        "#Enunciado:\n",
        "\n",
        "    #Um grupo de 25 alunos foi avaliado antes e depois de participar de um curso intensivo de lógica matemática.\n",
        "    #A instituição quer saber se o curso melhorou o desempenho dos alunos.\n",
        "\n",
        "    #Use o teste t pareado para verificar se há evidência de aumento significativo nas notas após o curso, considerando α = 0.05.\n",
        "\n",
        "\n",
        "#Primeiro, é variado, pois se trata da mesma turma\n",
        "#Segundo, H1 será quando DA<DD\n",
        "#Terceiro, será unicaudal ...\n",
        "\n",
        "#ttest_rel é para dados variados por isso vou usar ele no codigo\n",
        "\n",
        "df2 = pd.read_csv(\"Ex2_AntesDepois.csv\")\n",
        "\n",
        "t_stat2, p_bilateral2 = ttest_rel(df2[\"Antes\"], df2[\"Depois\"])\n",
        "p_direita = p_bilateral2 / 2 if t_stat2 > 0 else 1 - p_bilateral2 / 2 #P direito, o P esquerdo seria <. Tenho que ver less e greater\n",
        "print(p_direita)\n",
        "if p_direita < 0.05:\n",
        "    print(\"rejeita a hipotese nula\")\n",
        "else:\n",
        "    print(\"não há evidencia suficiente para rejeitar a hipotese nula\")"
      ]
    },
    {
      "cell_type": "code",
      "execution_count": null,
      "metadata": {},
      "outputs": [],
      "source": [
        "# Exercício 3 — Teste t, variável independente, bicaudal (Ex3_Estresse.csv)\n",
        "#Enunciado:\n",
        "\n",
        "    #A área de RH quer saber se existe diferença de nível de estresse entre colaboradores do setor de TI e do setor de RH.\n",
        "    #Não há expectativa prévia sobre qual setor apresenta mais estresse — pode ser qualquer um.\n",
        "\n",
        "    #Faça um teste t bicaudal para avaliar se os dois setores diferem em termos de estresse médio.\n",
        "\n",
        "\n",
        "    \n"
      ]
    },
    {
      "cell_type": "code",
      "execution_count": null,
      "metadata": {},
      "outputs": [],
      "source": [
        "# Exercício 4 — Teste t com 1 amostra (ttest_1samp) (Ex4_TempoEspera.csv)\n",
        "#Enunciado:\n",
        "\n",
        "    #A empresa afirma que o tempo médio de espera para atendimento no SAC é de 15 minutos.\n",
        "    #Você coletou dados reais de 40 clientes e quer testar se o tempo médio atual é significativamente diferente do declarado.\n",
        "\n",
        "    #Use o teste t para uma amostra e nível de significância de 5%.\n",
        "\n",
        "\n",
        "    "
      ]
    }
  ],
  "metadata": {
    "colab": {
      "provenance": []
    },
    "kernelspec": {
      "display_name": "base",
      "language": "python",
      "name": "python3"
    },
    "language_info": {
      "codemirror_mode": {
        "name": "ipython",
        "version": 3
      },
      "file_extension": ".py",
      "mimetype": "text/x-python",
      "name": "python",
      "nbconvert_exporter": "python",
      "pygments_lexer": "ipython3",
      "version": "3.11.7"
    }
  },
  "nbformat": 4,
  "nbformat_minor": 0
}
